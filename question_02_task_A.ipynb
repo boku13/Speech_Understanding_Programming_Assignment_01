{
 "cells": [
  {
   "cell_type": "code",
   "execution_count": null,
   "metadata": {},
   "outputs": [],
   "source": [
    "import numpy as np\n",
    "import pandas as pd\n",
    "import librosa\n",
    "import librosa.display\n",
    "import matplotlib.pyplot as plt\n",
    "from sklearn.model_selection import train_test_split\n",
    "from sklearn.svm import SVC\n",
    "from sklearn.preprocessing import StandardScaler\n",
    "from sklearn.metrics import classification_report\n",
    "import os"
   ]
  },
  {
   "cell_type": "code",
   "execution_count": null,
   "metadata": {},
   "outputs": [],
   "source": [
    "# Custom Hann window implementation\n",
    "def hann_window(N):\n",
    "    \"\"\"\n",
    "    Implement Hann window from scratch\n",
    "    N: window length\n",
    "    \"\"\"\n",
    "    n = np.arange(N)\n",
    "    return 0.5 * (1 - np.cos(2 * np.pi * n / (N - 1)))"
   ]
  },
  {
   "cell_type": "code",
   "execution_count": null,
   "metadata": {},
   "outputs": [],
   "source": [
    "# Function to load and preprocess audio\n",
    "def load_audio(file_path, sr=22050, duration=3.0):\n",
    "    \"\"\"\n",
    "    Load audio file and trim/pad to fixed duration\n",
    "    \"\"\"\n",
    "    y, sr = librosa.load(file_path, sr=sr, duration=duration)\n",
    "    # Pad or trim to fixed length\n",
    "    if len(y) < sr * duration:\n",
    "        y = np.pad(y, (0, int(sr * duration - len(y))))\n",
    "    else:\n",
    "        y = y[:int(sr * duration)]\n",
    "    return y, sr\n"
   ]
  },
  {
   "cell_type": "code",
   "execution_count": null,
   "metadata": {},
   "outputs": [],
   "source": [
    "# Function to generate spectrograms with different windows\n",
    "def generate_spectrogram(y, sr, window_type='hann', n_fft=2048, hop_length=512):\n",
    "    \"\"\"\n",
    "    Generate spectrogram using specified window type\n",
    "    \"\"\"\n",
    "    if window_type == 'hann_custom':\n",
    "        window = hann_window(n_fft)\n",
    "    elif window_type == 'hamming':\n",
    "        window = np.hamming(n_fft)\n",
    "    elif window_type == 'rectangular':\n",
    "        window = np.ones(n_fft)\n",
    "    else:  # default librosa hann window\n",
    "        window = 'hann'\n",
    "    \n",
    "    # Compute STFT\n",
    "    D = librosa.stft(y, n_fft=n_fft, hop_length=hop_length, window=window)\n",
    "    # Convert to log-scale spectrogram\n",
    "    S_db = librosa.amplitude_to_db(np.abs(D), ref=np.max)\n",
    "    return S_db"
   ]
  },
  {
   "cell_type": "code",
   "execution_count": null,
   "metadata": {},
   "outputs": [],
   "source": [
    "# Function to extract features from spectrogram\n",
    "def extract_features(S_db):\n",
    "    \"\"\"\n",
    "    Extract simple features from spectrogram\n",
    "    \"\"\"\n",
    "    # Mean and standard deviation of each frequency bin\n",
    "    mean_features = np.mean(S_db, axis=1)\n",
    "    std_features = np.std(S_db, axis=1)\n",
    "    return np.concatenate([mean_features, std_features])"
   ]
  },
  {
   "cell_type": "code",
   "execution_count": null,
   "metadata": {},
   "outputs": [],
   "source": [
    "# Load and process data from fold1\n",
    "def load_dataset(fold_num=1):\n",
    "    metadata = pd.read_csv('metadata/UrbanSound8K.csv')\n",
    "    fold_data = metadata[metadata['fold'] == fold_num]\n",
    "    \n",
    "    X = []\n",
    "    y = []\n",
    "    \n",
    "    for _, row in fold_data.iterrows():\n",
    "        file_path = os.path.join('audio', f'fold{fold_num}', row['slice_file_name'])\n",
    "        try:\n",
    "            audio, sr = load_audio(file_path)\n",
    "            \n",
    "            # Generate spectrograms with different windows\n",
    "            specs = []\n",
    "            for window in ['hann_custom', 'hamming', 'rectangular']:\n",
    "                S_db = generate_spectrogram(audio, sr, window_type=window)\n",
    "                features = extract_features(S_db)\n",
    "                specs.append(features)\n",
    "            \n",
    "            # Concatenate features from all window types\n",
    "            X.append(np.concatenate(specs))\n",
    "            y.append(row['classID'])\n",
    "        except:\n",
    "            print(f\"Error processing {file_path}\")\n",
    "            continue\n",
    "    \n",
    "    return np.array(X), np.array(y)\n"
   ]
  },
  {
   "cell_type": "code",
   "execution_count": null,
   "metadata": {},
   "outputs": [],
   "source": [
    "# Load dataset\n",
    "X, y = load_dataset(fold_num=1)\n",
    "\n",
    "# Split data\n",
    "X_train, X_test, y_train, y_test = train_test_split(X, y, test_size=0.2, random_state=42)\n",
    "\n",
    "# Scale features\n",
    "scaler = StandardScaler()\n",
    "X_train_scaled = scaler.fit_transform(X_train)\n",
    "X_test_scaled = scaler.transform(X_test)\n",
    "\n",
    "# Train SVM classifier\n",
    "svm = SVC(kernel='rbf', random_state=42)\n",
    "svm.fit(X_train_scaled, y_train)\n",
    "\n",
    "# Evaluate\n",
    "y_pred = svm.predict(X_test_scaled)\n",
    "print(\"Classification Report:\")\n",
    "print(classification_report(y_test, y_pred))\n",
    "\n",
    "# Visualize spectrograms for comparison\n",
    "# Load a sample audio file\n",
    "sample_audio, sr = load_audio(os.path.join('audio', 'fold1', metadata[metadata['fold'] == 1]['slice_file_name'].iloc[0]))\n",
    "\n",
    "# Plot spectrograms with different windows\n",
    "fig, axes = plt.subplots(1, 3, figsize=(15, 5))\n",
    "window_types = ['hann_custom', 'hamming', 'rectangular']\n",
    "\n",
    "for i, window_type in enumerate(window_types):\n",
    "    S_db = generate_spectrogram(sample_audio, sr, window_type=window_type)\n",
    "    img = librosa.display.specshow(S_db, x_axis='time', y_axis='hz', ax=axes[i])\n",
    "    axes[i].set_title(f'{window_type} Window')\n",
    "\n",
    "plt.tight_layout()\n",
    "plt.show()"
   ]
  }
 ],
 "metadata": {
  "language_info": {
   "name": "python"
  }
 },
 "nbformat": 4,
 "nbformat_minor": 2
}
